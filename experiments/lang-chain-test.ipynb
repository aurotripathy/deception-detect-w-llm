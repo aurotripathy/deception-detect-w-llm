{
 "cells": [
  {
   "cell_type": "code",
   "execution_count": null,
   "metadata": {},
   "outputs": [],
   "source": [
    "\"\"\"langchain test\"\"\""
   ]
  },
  {
   "cell_type": "code",
   "execution_count": null,
   "metadata": {},
   "outputs": [],
   "source": [
    "! pip install pydantic==1.10.11"
   ]
  },
  {
   "cell_type": "code",
   "execution_count": 9,
   "metadata": {},
   "outputs": [],
   "source": [
    "from langchain.output_parsers import ResponseSchema\n",
    "from langchain.output_parsers import StructuredOutputParser\n",
    "\n",
    "recommendation_schema = ResponseSchema(\n",
    "    name=\"recommended\",\n",
    "    description=\"Does the buyer recommend the product? \\\n",
    "    Answer True if yes, False if not or unknown.\"\n",
    ")\n",
    "\n",
    "delivery_days_schema = ResponseSchema(\n",
    "    name=\"delivery_days\",\n",
    "    description=\"How many days did it take for the product to arrive? \\\n",
    "    If this information is not found,output -1.\"\n",
    ")\n",
    "\n",
    "setup_schema = ResponseSchema(\n",
    "    name=\"setup\",\n",
    "    description=\"Extract any sentences about the setup of the product.\"\n",
    ")\n",
    "\n",
    "response_schemas = [\n",
    "    recommendation_schema, \n",
    "    delivery_days_schema,\n",
    "    setup_schema\n",
    "]"
   ]
  },
  {
   "cell_type": "code",
   "execution_count": 10,
   "metadata": {},
   "outputs": [],
   "source": [
    "output_parser = StructuredOutputParser.from_response_schemas(response_schemas)\n",
    "format_instructions = output_parser.get_format_instructions()"
   ]
  },
  {
   "cell_type": "code",
   "execution_count": 12,
   "metadata": {},
   "outputs": [
    {
     "data": {
      "text/plain": [
       "str"
      ]
     },
     "execution_count": 12,
     "metadata": {},
     "output_type": "execute_result"
    }
   ],
   "source": [
    "response = \"\"\"{\n",
    "    \"recommended\": true,\n",
    "    \"delivery_days\": 5,\n",
    "    \"setup\": \"The setup was EXTREMELY easy.\"\n",
    "}\n",
    "\"\"\"\n",
    "type(response)"
   ]
  },
  {
   "cell_type": "code",
   "execution_count": 14,
   "metadata": {},
   "outputs": [
    {
     "name": "stdout",
     "output_type": "stream",
     "text": [
      "{'recommended': True, 'delivery_days': 5, 'setup': 'The setup was EXTREMELY easy.'}\n"
     ]
    }
   ],
   "source": [
    "output_dict = output_parser.parse(response)\n",
    "\n",
    "print(output_dict)\n"
   ]
  }
 ],
 "metadata": {
  "kernelspec": {
   "display_name": "babyagi",
   "language": "python",
   "name": "python3"
  },
  "language_info": {
   "codemirror_mode": {
    "name": "ipython",
    "version": 3
   },
   "file_extension": ".py",
   "mimetype": "text/x-python",
   "name": "python",
   "nbconvert_exporter": "python",
   "pygments_lexer": "ipython3",
   "version": "3.9.16"
  },
  "orig_nbformat": 4
 },
 "nbformat": 4,
 "nbformat_minor": 2
}
